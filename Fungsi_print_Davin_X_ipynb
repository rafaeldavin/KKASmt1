{
  "nbformat": 4,
  "nbformat_minor": 0,
  "metadata": {
    "colab": {
      "provenance": [],
      "authorship_tag": "ABX9TyPii/SaRtZIcvzWCCkEwlkD",
      "include_colab_link": true
    },
    "kernelspec": {
      "name": "python3",
      "display_name": "Python 3"
    },
    "language_info": {
      "name": "python"
    }
  },
  "cells": [
    {
      "cell_type": "markdown",
      "metadata": {
        "id": "view-in-github",
        "colab_type": "text"
      },
      "source": [
        "<a href=\"https://colab.research.google.com/github/rafaeldavin/KKASmt1/blob/main/Fungsi_print_Davin_X_ipynb\" target=\"_parent\"><img src=\"https://colab.research.google.com/assets/colab-badge.svg\" alt=\"Open In Colab\"/></a>"
      ]
    },
    {
      "cell_type": "markdown",
      "source": [
        "#menampilkan teks bebas"
      ],
      "metadata": {
        "id": "_W5gtG1SHWYx"
      }
    },
    {
      "cell_type": "code",
      "execution_count": null,
      "metadata": {
        "colab": {
          "base_uri": "https://localhost:8080/"
        },
        "id": "XToj87j9EuNE",
        "outputId": "d6b64f01-4992-47fa-f96f-f61eab8d990c"
      },
      "outputs": [
        {
          "output_type": "stream",
          "name": "stdout",
          "text": [
            "Halo dunia!\n"
          ]
        }
      ],
      "source": [
        "print(\"Halo dunia!\")"
      ]
    },
    {
      "cell_type": "code",
      "source": [
        "print(\"selamat datang di python\")"
      ],
      "metadata": {
        "colab": {
          "base_uri": "https://localhost:8080/"
        },
        "id": "tgKmY1rSGtTQ",
        "outputId": "fa10eb3a-a989-4b95-e5dd-49989b6666c4"
      },
      "execution_count": null,
      "outputs": [
        {
          "output_type": "stream",
          "name": "stdout",
          "text": [
            "selamat datang di python\n"
          ]
        }
      ]
    },
    {
      "cell_type": "markdown",
      "source": [
        "#Variabel"
      ],
      "metadata": {
        "id": "qasCT-SpHzbv"
      }
    },
    {
      "cell_type": "code",
      "source": [
        "BB = 54\n",
        "\n",
        "print(BB)"
      ],
      "metadata": {
        "colab": {
          "base_uri": "https://localhost:8080/"
        },
        "id": "MPKxwsQsH5iy",
        "outputId": "890e981a-cbad-4da3-f59f-41c0d9229071"
      },
      "execution_count": null,
      "outputs": [
        {
          "output_type": "stream",
          "name": "stdout",
          "text": [
            "54\n"
          ]
        }
      ]
    },
    {
      "cell_type": "code",
      "source": [
        "usia = 15\n",
        "\n",
        "print(usia)"
      ],
      "metadata": {
        "colab": {
          "base_uri": "https://localhost:8080/"
        },
        "id": "U5PkjhuCIVoN",
        "outputId": "78737edc-88b4-422a-c89c-679f7794609d"
      },
      "execution_count": null,
      "outputs": [
        {
          "output_type": "stream",
          "name": "stdout",
          "text": [
            "15\n"
          ]
        }
      ]
    },
    {
      "cell_type": "markdown",
      "source": [
        "#menampilkan teks bebas dan variabel"
      ],
      "metadata": {
        "id": "DEqsnMMvIybO"
      }
    },
    {
      "cell_type": "code",
      "source": [
        "\n",
        "umur = 15\n",
        "\n",
        "print(f\"umur saya {umur} tahun\")"
      ],
      "metadata": {
        "colab": {
          "base_uri": "https://localhost:8080/"
        },
        "id": "zWBWRn-LI49p",
        "outputId": "7171f024-5e92-4b70-c7b3-8875e14a1ceb"
      },
      "execution_count": null,
      "outputs": [
        {
          "output_type": "stream",
          "name": "stdout",
          "text": [
            "umur saya 15 tahun\n"
          ]
        }
      ]
    },
    {
      "cell_type": "code",
      "source": [
        "BB = 54\n",
        "\n",
        "print(f\"berat badan Gweh {BB}kg\")"
      ],
      "metadata": {
        "colab": {
          "base_uri": "https://localhost:8080/"
        },
        "id": "zCRC--0GJl0C",
        "outputId": "74fc6b09-5e72-4041-8d93-1fc1a3bc7f5b"
      },
      "execution_count": null,
      "outputs": [
        {
          "output_type": "stream",
          "name": "stdout",
          "text": [
            "berat badan Gweh 54kg\n"
          ]
        }
      ]
    },
    {
      "cell_type": "code",
      "source": [
        "BB = 54\n",
        "\n",
        "print(\"my weight\", BB, \"kg\")"
      ],
      "metadata": {
        "colab": {
          "base_uri": "https://localhost:8080/"
        },
        "id": "DtwpYD8pKIW-",
        "outputId": "8b98f5b0-5897-41cb-adfe-a426f6389454"
      },
      "execution_count": null,
      "outputs": [
        {
          "output_type": "stream",
          "name": "stdout",
          "text": [
            "my weight 54 kg\n"
          ]
        }
      ]
    },
    {
      "cell_type": "code",
      "source": [
        "nama = \"Rafael Davin Fachrial\"\n",
        "\n",
        "print(\"nama Gweh \" + nama)"
      ],
      "metadata": {
        "colab": {
          "base_uri": "https://localhost:8080/"
        },
        "id": "6TtN0Y4-K1aT",
        "outputId": "9f3e33d9-1be9-48f8-d478-e148e9b013b0"
      },
      "execution_count": null,
      "outputs": [
        {
          "output_type": "stream",
          "name": "stdout",
          "text": [
            "nama Gweh Rafael Davin Fachrial\n"
          ]
        }
      ]
    },
    {
      "cell_type": "code",
      "source": [
        "harga_telur = 26000\n",
        "\n",
        "print(\"harga telur per 1 kg adalah\", harga_telur )"
      ],
      "metadata": {
        "colab": {
          "base_uri": "https://localhost:8080/"
        },
        "id": "aD66SRjZBodY",
        "outputId": "d8956fa2-7968-4988-ffdf-677751992bdc"
      },
      "execution_count": null,
      "outputs": [
        {
          "output_type": "stream",
          "name": "stdout",
          "text": [
            "harga telur per 1 kg adalah 26000\n"
          ]
        }
      ]
    },
    {
      "cell_type": "markdown",
      "source": [
        "#escape character"
      ],
      "metadata": {
        "id": "Qmp59wWyJHMH"
      }
    },
    {
      "cell_type": "code",
      "source": [
        "print(\"nama: Leonardo dicaprio\")\n",
        "print(\"kelas: XI.1\")\n",
        "print(\"Nomor absen: 28\")"
      ],
      "metadata": {
        "colab": {
          "base_uri": "https://localhost:8080/"
        },
        "id": "CF-E2B4FJMqH",
        "outputId": "e9c60c8f-dbba-48eb-d735-f7c0a25b3a01"
      },
      "execution_count": null,
      "outputs": [
        {
          "output_type": "stream",
          "name": "stdout",
          "text": [
            "nama: Leonardo dicaprio\n",
            "kelas: XI.1\n",
            "Nomor absen: 28\n"
          ]
        }
      ]
    },
    {
      "cell_type": "code",
      "source": [
        "print(\"nama\\t\\t: Leonardo Dicaprio\\nkelas\\t\\t: XI.1\\nnomer absen\\t: 28\")"
      ],
      "metadata": {
        "colab": {
          "base_uri": "https://localhost:8080/"
        },
        "id": "h5sSd0IzKFHX",
        "outputId": "98acd291-5ef6-4f84-e2cb-5f16d8aff788"
      },
      "execution_count": null,
      "outputs": [
        {
          "output_type": "stream",
          "name": "stdout",
          "text": [
            "nama\t\t: Leonardo Dicaprio\n",
            "kelas\t\t: XI.1\n",
            "nomer absen\t: 28\n"
          ]
        }
      ]
    },
    {
      "cell_type": "code",
      "source": [
        "print(\"\"\"Nama: Leonardo Dicaprio\n",
        "kelas: XI.1\n",
        "nomer absen: 28\"\"\")"
      ],
      "metadata": {
        "colab": {
          "base_uri": "https://localhost:8080/"
        },
        "id": "8cfAlERUK_2-",
        "outputId": "8f3ec688-23f4-4562-b053-a61caf5cef54"
      },
      "execution_count": null,
      "outputs": [
        {
          "output_type": "stream",
          "name": "stdout",
          "text": [
            "Nama: Leonardo Dicaprio \n",
            "kelas: XI.1\n",
            "nomer absen: 28\n"
          ]
        }
      ]
    },
    {
      "cell_type": "markdown",
      "source": [
        "latihan soal\n",
        "\n",
        "1. Tampilkan teks bebas: hari ini saya bahagia belajar bahasa python\n",
        "2. Tampilkan nilai variabel: mata_pelajaran_favorit = kode dan kecerdasan buatan\n",
        "3. Tampilkan nilai Variabel: nilai_kka =100\n",
        "4. Tampilkan teks bebas dan nilai variabel dengan tiga metode (f string, \"+\", \",\": \"nilai KKA saya adalah {nilai_kka} loh!\""
      ],
      "metadata": {
        "id": "1BMLIePbGrFy"
      }
    },
    {
      "cell_type": "code",
      "source": [
        "print(\"hari ini saya bahagia belajar bahasa python\")"
      ],
      "metadata": {
        "colab": {
          "base_uri": "https://localhost:8080/"
        },
        "id": "01T3-kWeIFbh",
        "outputId": "b49765d2-d1f0-47dd-d546-a6435ad138b9"
      },
      "execution_count": null,
      "outputs": [
        {
          "output_type": "stream",
          "name": "stdout",
          "text": [
            "hari ini saya bahagia belajar bahasa python\n"
          ]
        }
      ]
    },
    {
      "cell_type": "code",
      "source": [
        "mata_pelajaran_favorit = \"kode dan kecerdasan buatan\"\n",
        "\n",
        "print(mata_pelajaran_favorit)"
      ],
      "metadata": {
        "colab": {
          "base_uri": "https://localhost:8080/"
        },
        "id": "r8i-Y6bKIWjO",
        "outputId": "df2abb48-f76a-4467-bd40-b1895da9c6a4"
      },
      "execution_count": null,
      "outputs": [
        {
          "output_type": "stream",
          "name": "stdout",
          "text": [
            "kode dan kecerdasan buatan\n"
          ]
        }
      ]
    },
    {
      "cell_type": "code",
      "source": [
        "nilai_KKA= 100\n",
        "\n",
        "print(nilai_KKA)"
      ],
      "metadata": {
        "colab": {
          "base_uri": "https://localhost:8080/"
        },
        "id": "ALcOO79rIq-2",
        "outputId": "ea577176-73f9-4185-fe04-3889906983fe"
      },
      "execution_count": null,
      "outputs": [
        {
          "output_type": "stream",
          "name": "stdout",
          "text": [
            "100\n"
          ]
        }
      ]
    },
    {
      "cell_type": "code",
      "source": [
        "nilai_KKA = 100\n",
        "\n",
        "print(f\"nilai KKA saya adalah {nilai_KKA} loh!\")"
      ],
      "metadata": {
        "id": "jGm4weOQI1xK",
        "colab": {
          "base_uri": "https://localhost:8080/"
        },
        "outputId": "483081da-08b7-4d96-d166-49b8fe35c886"
      },
      "execution_count": null,
      "outputs": [
        {
          "output_type": "stream",
          "name": "stdout",
          "text": [
            "nilai KKA saya adalah 100 loh!\n"
          ]
        }
      ]
    },
    {
      "cell_type": "code",
      "source": [
        "nilai_KKA = 100\n",
        "\n",
        "print(\"nilai KKA saya adalah\", nilai_KKA, \"loh!\")"
      ],
      "metadata": {
        "colab": {
          "base_uri": "https://localhost:8080/"
        },
        "id": "BDX7AV5VMwh4",
        "outputId": "6baf826b-82bc-4900-e654-559558406832"
      },
      "execution_count": null,
      "outputs": [
        {
          "output_type": "stream",
          "name": "stdout",
          "text": [
            "nilai KKA saya adalah 100 loh!\n"
          ]
        }
      ]
    },
    {
      "cell_type": "code",
      "source": [
        "nilai_KKA = 100\n",
        "\n",
        "print(\"nilai KKA saya adalah \" + str(nilai_KKA) + \" loh!\")"
      ],
      "metadata": {
        "colab": {
          "base_uri": "https://localhost:8080/"
        },
        "id": "aD1KXrHxNF-y",
        "outputId": "5fb0a155-6b8a-45df-d321-5813fc40c7a9"
      },
      "execution_count": null,
      "outputs": [
        {
          "output_type": "stream",
          "name": "stdout",
          "text": [
            "nilai KKA saya adalah 100 loh!\n"
          ]
        }
      ]
    },
    {
      "cell_type": "code",
      "source": [
        "print('ja\\'far shodiq')"
      ],
      "metadata": {
        "colab": {
          "base_uri": "https://localhost:8080/"
        },
        "id": "xV19DbAXDfog",
        "outputId": "6ea63819-8511-4305-d0ad-fb2c82de4a17"
      },
      "execution_count": null,
      "outputs": [
        {
          "output_type": "stream",
          "name": "stdout",
          "text": [
            "ja'far shodiq\n"
          ]
        }
      ]
    },
    {
      "cell_type": "code",
      "source": [
        "print(\"Ja'far Shodiq\")"
      ],
      "metadata": {
        "colab": {
          "base_uri": "https://localhost:8080/"
        },
        "id": "dSPwIkSuDf6z",
        "outputId": "3f2fbf40-9458-4826-a775-9146da73a488"
      },
      "execution_count": null,
      "outputs": [
        {
          "output_type": "stream",
          "name": "stdout",
          "text": [
            "Ja'far Shodiq\n"
          ]
        }
      ]
    },
    {
      "cell_type": "code",
      "source": [
        "print(\"favian berkata, \\\"aku raja menjang.\\\"\")"
      ],
      "metadata": {
        "colab": {
          "base_uri": "https://localhost:8080/"
        },
        "id": "TzNKUQhiCNXu",
        "outputId": "893d1b26-6d5f-4738-b27d-f8f3c81461d8"
      },
      "execution_count": null,
      "outputs": [
        {
          "output_type": "stream",
          "name": "stdout",
          "text": [
            "favian berkata, \"aku raja menjang.\"\n"
          ]
        }
      ]
    },
    {
      "cell_type": "code",
      "source": [
        "print('favian berkata, \"aku raja menjang.\"')"
      ],
      "metadata": {
        "colab": {
          "base_uri": "https://localhost:8080/"
        },
        "id": "FadrEThfCQcL",
        "outputId": "2626ae73-c980-43a4-d05d-654e2cebe234"
      },
      "execution_count": null,
      "outputs": [
        {
          "output_type": "stream",
          "name": "stdout",
          "text": [
            "favian berkata, \"aku raja menjang.\"\n"
          ]
        }
      ]
    },
    {
      "cell_type": "code",
      "source": [
        "print('video rahasia menjang ada di D:\\\\Menjangskuy 19 detik\\\\mp4\") ')"
      ],
      "metadata": {
        "colab": {
          "base_uri": "https://localhost:8080/"
        },
        "id": "PCiTa5LUCQ08",
        "outputId": "42b67fb3-1e87-4e04-a298-b843fdc51cff"
      },
      "execution_count": null,
      "outputs": [
        {
          "output_type": "stream",
          "name": "stdout",
          "text": [
            "video rahasia menjang ada di D:\\Menjangskuy 19 detik\\mp4\") \n"
          ]
        }
      ]
    },
    {
      "cell_type": "code",
      "source": [
        "tahun = 2009\n",
        "bulan = \"September\"\n",
        "tanggal = 30\n",
        "\n",
        "print(tanggal, bulan, tahun)"
      ],
      "metadata": {
        "colab": {
          "base_uri": "https://localhost:8080/"
        },
        "id": "ZQYu1DS8HEdM",
        "outputId": "7ef44161-d524-444d-9cfc-82d5565352fb"
      },
      "execution_count": null,
      "outputs": [
        {
          "output_type": "stream",
          "name": "stdout",
          "text": [
            "30 September 2009\n"
          ]
        }
      ]
    },
    {
      "cell_type": "code",
      "source": [
        "tahun = 2009\n",
        "tanggal = 30\n",
        "bulan = \"september\"\n",
        "\n",
        "print(tanggal, bulan, tahun, sep=\"/\")"
      ],
      "metadata": {
        "colab": {
          "base_uri": "https://localhost:8080/"
        },
        "id": "9ajBkP7zH35_",
        "outputId": "55a7efd9-9242-484d-eb20-5eb3efb6bbdb"
      },
      "execution_count": null,
      "outputs": [
        {
          "output_type": "stream",
          "name": "stdout",
          "text": [
            "30/september/2009\n"
          ]
        }
      ]
    },
    {
      "cell_type": "code",
      "source": [
        "tahun = 2009\n",
        "bulan = \"September\"\n",
        "tanggal = 30\n",
        "\n",
        "print(tanggal, end=\" \")\n",
        "print(bulan, end=\" \")\n",
        "print(tahun)"
      ],
      "metadata": {
        "colab": {
          "base_uri": "https://localhost:8080/"
        },
        "id": "h6JQhHXhHd6P",
        "outputId": "7729d7fb-aecd-415e-8fd0-098c4890d870"
      },
      "execution_count": null,
      "outputs": [
        {
          "output_type": "stream",
          "name": "stdout",
          "text": [
            "30 September 2009\n"
          ]
        }
      ]
    },
    {
      "cell_type": "code",
      "source": [
        "print('Bu Shinta berkata, \"berikut adalah judul pelajaran hari Senin Selasa Rabu silahkan disimpan di laptop masing masing di folder local disk D:\\\\Jadwal Pelajaran\\\\Kelas XI Semester I\"\\n')\n",
        "print('JADWAL PELAJARAN MINGGUAN')\n",
        "print(\"===============================\")\n",
        "print(\"jam\\tsenin\\t\\tSelasa\\t\\trabu\")\n",
        "print(\"jam1\\tMatematika\\tBahasa\\t\\tinformatika\")\n",
        "print(\"jam2\\tBahasa ing.\\tSejarah\\t\\tMa\\'rifatullah\")\n",
        "print(\"jam3\\tIndormatika\\tOlahraga\\tBiologi\")"
      ],
      "metadata": {
        "colab": {
          "base_uri": "https://localhost:8080/"
        },
        "id": "ZAjp3sOPMIFX",
        "outputId": "f51c4835-1aa1-4137-b4c8-77fc1c362aa6"
      },
      "execution_count": null,
      "outputs": [
        {
          "output_type": "stream",
          "name": "stdout",
          "text": [
            "Bu Shinta berkata, \"berikut adalah judul pelajaran hari Senin Selasa Rabu silahkan disimpan di laptop masing masing di folder local disk D:\\Jadwal Pelajaran\\Kelas XI Semester I\"\n",
            "\n",
            "JADWAL PELAJARAN MINGGUAN\n",
            "===============================\n",
            "jam\tsenin\t\tSelasa\t\trabu\n",
            "jam1\tMatematika\tBahasa\t\tinformatika\n",
            "jam2\tBahasa ing.\tSejarah\t\tMa'rifatullah\n",
            "jam3\tIndormatika\tOlahraga\tBiologi\n"
          ]
        }
      ]
    },
    {
      "cell_type": "code",
      "source": [
        "nama_hama_1 = \"Naufal\"\n",
        "nama_hama_2 = \"Favian\"\n",
        "nama_hama_3 = \"Humaira\"\n",
        "\n",
        "print(nama_hama_1, nama_hama_2, nama_hama_3, nama_hama_2,  sep=\"~\")"
      ],
      "metadata": {
        "colab": {
          "base_uri": "https://localhost:8080/"
        },
        "id": "7CBtDo13HpF3",
        "outputId": "a1f0b875-f3dd-400c-fd33-686703e882ac"
      },
      "execution_count": null,
      "outputs": [
        {
          "output_type": "stream",
          "name": "stdout",
          "text": [
            "Naufal~Favian~Humaira~Favian\n"
          ]
        }
      ]
    },
    {
      "cell_type": "code",
      "source": [
        "nama_hama_1 = \"Naufal\"\n",
        "nama_hama_2 = \"Favian\"\n",
        "nama_hama_3 = \"Humaira\"\n",
        "print(nama_hama_2, end=\"~\")\n",
        "print(nama_hama_1)\n",
        "print(nama_hama_3, end=\"~\")\n",
        "print(nama_hama_1)"
      ],
      "metadata": {
        "colab": {
          "base_uri": "https://localhost:8080/"
        },
        "id": "_izbBaV5IaTx",
        "outputId": "9ab730ed-c0f5-4824-cbf1-db38e1c881c9"
      },
      "execution_count": null,
      "outputs": [
        {
          "output_type": "stream",
          "name": "stdout",
          "text": [
            "Favian~Naufal\n",
            "Humaira~Naufal\n"
          ]
        }
      ]
    },
    {
      "cell_type": "code",
      "source": [],
      "metadata": {
        "id": "GtsLgGeqJEeb"
      },
      "execution_count": null,
      "outputs": []
    }
  ]
}